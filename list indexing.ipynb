{
 "cells": [
  {
   "cell_type": "code",
   "execution_count": 17,
   "metadata": {},
   "outputs": [
    {
     "name": "stdout",
     "output_type": "stream",
     "text": [
      "facebook\n",
      "chrome\n",
      "facebook\n"
     ]
    }
   ],
   "source": [
    "apps=[\"google\",\"insta\",\"whatsp\",\"swiggy\",\"facebook\",\"spotify\", \"gpay\",\"zomato\",\"chrome\",\"likdin\"]\n",
    "print(apps[4])\n",
    "print(apps[-2])\n",
    "print(apps[-6])\n",
    "# indexing\n"
   ]
  },
  {
   "cell_type": "code",
   "execution_count": 18,
   "metadata": {},
   "outputs": [
    {
     "name": "stdout",
     "output_type": "stream",
     "text": [
      "['whatsp', 'swiggy', 'facebook', 'spotify', 'gpay', 'zomato', 'chrome']\n",
      "['google', 'insta', 'whatsp', 'swiggy', 'facebook', 'spotify']\n",
      "['whatsp', 'facebook', 'gpay', 'chrome']\n",
      "['spotify', 'gpay', 'zomato', 'chrome', 'likdin']\n",
      "['likdin']\n",
      "['facebook', 'spotify', 'gpay']\n",
      "['google', 'insta', 'whatsp', 'swiggy', 'facebook', 'spotify', 'gpay', 'zomato', 'chrome', 'likdin']\n"
     ]
    }
   ],
   "source": [
    "print(apps[2:9])\n",
    "print(apps[0:6])\n",
    "print(apps[2:9:2])\n",
    "print(apps[5:])\n",
    "print(apps[-1:])\n",
    "print(apps[-6:-3])\n",
    "print(apps[:])\n",
    "#slicing\n"
   ]
  },
  {
   "cell_type": "code",
   "execution_count": null,
   "metadata": {},
   "outputs": [],
   "source": []
  }
 ],
 "metadata": {
  "kernelspec": {
   "display_name": "Python 3",
   "language": "python",
   "name": "python3"
  },
  "language_info": {
   "codemirror_mode": {
    "name": "ipython",
    "version": 3
   },
   "file_extension": ".py",
   "mimetype": "text/x-python",
   "name": "python",
   "nbconvert_exporter": "python",
   "pygments_lexer": "ipython3",
   "version": "3.11.7"
  }
 },
 "nbformat": 4,
 "nbformat_minor": 2
}
