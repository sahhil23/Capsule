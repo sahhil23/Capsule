{
 "cells": [
  {
   "cell_type": "markdown",
   "metadata": {},
   "source": [
    ".CONDITION STATMENTS\n",
    "1-IF  #for multiple condition\n",
    "2-ELIF #for multiple condition\n",
    "3-IF ELSE #for single condition\n",
    "4-nested if\n",
    "5-MATCH CASE"
   ]
  },
  {
   "cell_type": "markdown",
   "metadata": {},
   "source": [
    "1.IF"
   ]
  },
  {
   "cell_type": "code",
   "execution_count": 4,
   "metadata": {},
   "outputs": [
    {
     "name": "stdout",
     "output_type": "stream",
     "text": [
      "c is greater than a\n"
     ]
    }
   ],
   "source": [
    "a=10\n",
    "b=20\n",
    "c=30\n",
    "if a>b:\n",
    "    print(\"a is greater than b\")\n",
    "if a>c:\n",
    "    print(\"print a is greater than c\")\n",
    "if b<a:\n",
    "    print(\"b is greater than a\")\n",
    "if c>a:\n",
    "    print(\"c is greater than a\")"
   ]
  },
  {
   "cell_type": "markdown",
   "metadata": {},
   "source": [
    "2. elif"
   ]
  },
  {
   "cell_type": "code",
   "execution_count": 8,
   "metadata": {},
   "outputs": [
    {
     "name": "stdout",
     "output_type": "stream",
     "text": [
      "no one is greater\n"
     ]
    }
   ],
   "source": [
    "a=10\n",
    "b=20\n",
    "c=30\n",
    "if a>b:\n",
    "    print(\"a is greater than b\")\n",
    "elif a>c:\n",
    "    print(\"a is greater than c\")\n",
    "elif b<a:\n",
    "    print(\"b is greater than a\")\n",
    "elif c<a:\n",
    "    print(\"c is greater than a\")\n",
    "else:\n",
    "    print(\"no one is greater\")  \n",
    "\n"
   ]
  },
  {
   "cell_type": "markdown",
   "metadata": {},
   "source": [
    "3.IF ELSE"
   ]
  },
  {
   "cell_type": "markdown",
   "metadata": {},
   "source": []
  },
  {
   "cell_type": "code",
   "execution_count": 9,
   "metadata": {},
   "outputs": [
    {
     "name": "stdout",
     "output_type": "stream",
     "text": [
      "b is greater thana\n"
     ]
    }
   ],
   "source": [
    "a=10\n",
    "b=20\n",
    "if a>b:\n",
    "    print(\"a is grtr than b\")\n",
    "else:\n",
    "    print( \"b is greater thana\")"
   ]
  },
  {
   "cell_type": "code",
   "execution_count": 11,
   "metadata": {},
   "outputs": [
    {
     "name": "stdout",
     "output_type": "stream",
     "text": [
      "ngtv num\n"
     ]
    }
   ],
   "source": [
    "num=int(input(\"enter a number\"))\n",
    "if num >0 :\n",
    "    print(\"positive number\")\n",
    "elif num==0:\n",
    "    print(\"Zero\")\n",
    "else:\n",
    "    print(\"ngtv num\")"
   ]
  },
  {
   "cell_type": "markdown",
   "metadata": {},
   "source": [
    "check voter eligibility"
   ]
  },
  {
   "cell_type": "code",
   "execution_count": 16,
   "metadata": {},
   "outputs": [
    {
     "name": "stdout",
     "output_type": "stream",
     "text": [
      "eligible for vote\n"
     ]
    }
   ],
   "source": [
    "age=int(input(\"enter a number\"))\n",
    "if age>18:\n",
    "    print(\"eligible for vote\")\n",
    "else:\n",
    "    print(\"not eligble\")"
   ]
  },
  {
   "cell_type": "code",
   "execution_count": 1,
   "metadata": {},
   "outputs": [
    {
     "name": "stdout",
     "output_type": "stream",
     "text": [
      "odd num\n"
     ]
    }
   ],
   "source": [
    "num=int(input(\"enter a number\"))\n",
    "if num% 2==0:\n",
    "    print(\"even num\")\n",
    "else:\n",
    "    print(\"odd num\")"
   ]
  },
  {
   "cell_type": "markdown",
   "metadata": {},
   "source": [
    "-HOME WORK \n",
    "1. CHECK whether char. entered by the user is vowel or not "
   ]
  },
  {
   "cell_type": "code",
   "execution_count": 2,
   "metadata": {},
   "outputs": [
    {
     "name": "stdout",
     "output_type": "stream",
     "text": [
      "consonant\n"
     ]
    }
   ],
   "source": [
    "char=str(input(\"enter a alphabet\"))\n",
    "A=[\"a,e,i,o,u\"]\n",
    "if char==A:\n",
    "    print(\"vowel\")\n",
    "else:\n",
    "    print(\"consonant\")\n"
   ]
  },
  {
   "cell_type": "markdown",
   "metadata": {},
   "source": [
    "2.CHECK whether two line segment are equal or not "
   ]
  },
  {
   "cell_type": "code",
   "execution_count": 6,
   "metadata": {},
   "outputs": [
    {
     "name": "stdout",
     "output_type": "stream",
     "text": [
      "The line segments are not equal.\n"
     ]
    }
   ],
   "source": [
    "segment1 = [(0, 0), (2, 2)]\n",
    "segment2 = [(2, 2), (0, 0)]\n",
    "\n",
    "if segment1==segment2:\n",
    "    print(\"The line segments are equal.\")\n",
    "else:\n",
    "    print(\"The line segments are not equal.\")"
   ]
  },
  {
   "cell_type": "markdown",
   "metadata": {},
   "source": [
    "3.check a triangle is equilateral\n",
    "        "
   ]
  },
  {
   "cell_type": "code",
   "execution_count": 9,
   "metadata": {},
   "outputs": [
    {
     "name": "stdout",
     "output_type": "stream",
     "text": [
      "The triangle is equilateral.\n"
     ]
    }
   ],
   "source": [
    "a = 5\n",
    "b = 5\n",
    "c = 5\n",
    "\n",
    "if a==b==c:\n",
    "    print(\"The triangle is equilateral.\")\n",
    "else:\n",
    "    print(\"iscoceles\")"
   ]
  },
  {
   "cell_type": "markdown",
   "metadata": {},
   "source": [
    "4.leap year or not \n"
   ]
  },
  {
   "cell_type": "code",
   "execution_count": 2,
   "metadata": {},
   "outputs": [
    {
     "name": "stdout",
     "output_type": "stream",
     "text": [
      "leap year\n"
     ]
    }
   ],
   "source": [
    "year=int(input(\"enter a year\"))\n",
    "if year%4:\n",
    "    print(\"leap year\")\n",
    "else:\n",
    "    print(\"normal year\")"
   ]
  },
  {
   "cell_type": "markdown",
   "metadata": {},
   "source": [
    "5.FIND THE AREA OF SQURE"
   ]
  },
  {
   "cell_type": "markdown",
   "metadata": {},
   "source": [
    "6.LIST OF PHONE APPS"
   ]
  },
  {
   "cell_type": "code",
   "execution_count": 7,
   "metadata": {},
   "outputs": [
    {
     "data": {
      "text/plain": [
       "False"
      ]
     },
     "execution_count": 7,
     "metadata": {},
     "output_type": "execute_result"
    }
   ],
   "source": [
    "apps=[\"google\",\"insta\",\"whatsp\",\"swiggy\",\"facebook\",]\n",
    "\"zomato\" in apps\n",
    "\n"
   ]
  },
  {
   "cell_type": "markdown",
   "metadata": {},
   "source": [
    "4.NESTED IF"
   ]
  },
  {
   "cell_type": "code",
   "execution_count": 3,
   "metadata": {},
   "outputs": [
    {
     "name": "stdout",
     "output_type": "stream",
     "text": [
      "both x and y are greater than 5 and 2 ,repectively\n"
     ]
    }
   ],
   "source": [
    "x=6\n",
    "y=5\n",
    "if x>5:\n",
    "    if y>2:\n",
    "        print(\"both x and y are greater than 5 and 2 ,repectively\")\n",
    "    else:\n",
    "        print(\"x is greater than 5 but y is less than 2\")\n",
    "else:\n",
    "    print(\"x is greater than 5\") "
   ]
  },
  {
   "cell_type": "code",
   "execution_count": 4,
   "metadata": {},
   "outputs": [
    {
     "name": "stdout",
     "output_type": "stream",
     "text": [
      "you are registered\n"
     ]
    }
   ],
   "source": [
    "username = input(\"enter usernm:\")\n",
    "email = input(\"enter email:\")\n",
    "pwd = input(\"enter password:\")\n",
    "cpwd = input(\"cnfrm pasword:\")\n",
    "if len(username)>5 and len(username)<15:\n",
    "    if '@' in email and email.islower():\n",
    "        if len(pwd)>=8 and len(pwd)<=15:\n",
    "            if pwd==pwd:\n",
    "                print(\"you are registered\")\n",
    "            else:\n",
    "                print(\"pwd and cpwd shld be same\")\n",
    "        else:\n",
    "            print(\"passwrd invalid\")\n",
    "    else:\n",
    "        print(\"email shoud contain @ symbol\")\n",
    "else:\n",
    "    print(\"user name invalid\")                            \n"
   ]
  },
  {
   "cell_type": "markdown",
   "metadata": {},
   "source": []
  }
 ],
 "metadata": {
  "kernelspec": {
   "display_name": "Python 3",
   "language": "python",
   "name": "python3"
  },
  "language_info": {
   "codemirror_mode": {
    "name": "ipython",
    "version": 3
   },
   "file_extension": ".py",
   "mimetype": "text/x-python",
   "name": "python",
   "nbconvert_exporter": "python",
   "pygments_lexer": "ipython3",
   "version": "3.11.7"
  }
 },
 "nbformat": 4,
 "nbformat_minor": 2
}
