{
 "cells": [
  {
   "cell_type": "markdown",
   "metadata": {},
   "source": [
    "-LOOPS\n",
    "1- FOR LOOP\n",
    "2- WHILE LOOP"
   ]
  },
  {
   "cell_type": "markdown",
   "metadata": {},
   "source": [
    "1 FOR LOOP"
   ]
  },
  {
   "cell_type": "code",
   "execution_count": 2,
   "metadata": {},
   "outputs": [
    {
     "name": "stdout",
     "output_type": "stream",
     "text": [
      "google\n",
      "insta\n",
      "whatsp\n",
      "swiggy\n",
      "facebook\n",
      "spotify\n",
      "gpay\n",
      "zomato\n",
      "chrome\n",
      "likdin\n"
     ]
    }
   ],
   "source": [
    "app=[\"google\",\"insta\",\"whatsp\",\"swiggy\",\"facebook\",\"spotify\", \"gpay\",\"zomato\",\"chrome\",\"likdin\"]\n",
    "for x in app:\n",
    "    print(x)\n"
   ]
  },
  {
   "cell_type": "code",
   "execution_count": 3,
   "metadata": {},
   "outputs": [
    {
     "name": "stdout",
     "output_type": "stream",
     "text": [
      "google\n",
      "insta\n",
      "whatsp\n",
      "swiggy\n",
      "facebook\n",
      "spotify\n",
      "gpay\n",
      "zomato\n",
      "chrome\n",
      "likdin\n"
     ]
    }
   ],
   "source": [
    "app=[\"google\",\"insta\",\"whatsp\",\"swiggy\",\"facebook\",\"spotify\", \"gpay\",\"zomato\",\"chrome\",\"likdin\"]\n",
    "for app in app:\n",
    "    print(app )"
   ]
  },
  {
   "cell_type": "markdown",
   "metadata": {},
   "source": [
    "for loop in list"
   ]
  },
  {
   "cell_type": "code",
   "execution_count": 5,
   "metadata": {},
   "outputs": [
    {
     "name": "stdout",
     "output_type": "stream",
     "text": [
      "google❤️insta❤️whatsp❤️swiggy❤️facebook❤️spotify❤️gpay❤️zomato❤️chrome❤️likdin❤️"
     ]
    }
   ],
   "source": [
    "app=[\"google\",\"insta\",\"whatsp\",\"swiggy\",\"facebook\",\"spotify\", \"gpay\",\"zomato\",\"chrome\",\"likdin\"]\n",
    "for a in app:\n",
    "    print(a, end='❤️' ) # horizontal print"
   ]
  },
  {
   "cell_type": "markdown",
   "metadata": {},
   "source": [
    "for loop in string"
   ]
  },
  {
   "cell_type": "code",
   "execution_count": 8,
   "metadata": {},
   "outputs": [
    {
     "name": "stdout",
     "output_type": "stream",
     "text": [
      "my name is sahil"
     ]
    }
   ],
   "source": [
    "name=\"my name is sahil\"\n",
    "for i in  name:\n",
    "    print(i,end='')"
   ]
  },
  {
   "cell_type": "markdown",
   "metadata": {},
   "source": [
    "-RANGE"
   ]
  },
  {
   "cell_type": "code",
   "execution_count": 9,
   "metadata": {},
   "outputs": [
    {
     "name": "stdout",
     "output_type": "stream",
     "text": [
      "komal\n",
      "komal\n",
      "komal\n",
      "komal\n",
      "komal\n",
      "komal\n",
      "komal\n",
      "komal\n",
      "komal\n",
      "komal\n"
     ]
    }
   ],
   "source": [
    "for name in range(10):\n",
    "    print(\"komal\")"
   ]
  },
  {
   "cell_type": "code",
   "execution_count": 11,
   "metadata": {},
   "outputs": [
    {
     "name": "stdout",
     "output_type": "stream",
     "text": [
      "1\n",
      "2\n",
      "3\n",
      "4\n",
      "5\n",
      "6\n",
      "7\n",
      "8\n",
      "9\n",
      "10\n",
      "11\n",
      "12\n",
      "13\n",
      "14\n",
      "15\n",
      "16\n",
      "17\n",
      "18\n",
      "19\n",
      "20\n",
      "21\n",
      "22\n",
      "23\n",
      "24\n",
      "25\n",
      "26\n",
      "27\n",
      "28\n",
      "29\n"
     ]
    }
   ],
   "source": [
    "for num in range(1,30):\n",
    "    print(num)"
   ]
  },
  {
   "cell_type": "code",
   "execution_count": 15,
   "metadata": {},
   "outputs": [
    {
     "name": "stdout",
     "output_type": "stream",
     "text": [
      "2\n",
      "4\n",
      "6\n",
      "8\n",
      "10\n",
      "12\n",
      "14\n",
      "16\n",
      "18\n",
      "20\n"
     ]
    }
   ],
   "source": [
    "for even in range(2,21,2):\n",
    "    print(even)"
   ]
  },
  {
   "cell_type": "markdown",
   "metadata": {},
   "source": [
    "for odd num."
   ]
  },
  {
   "cell_type": "code",
   "execution_count": 20,
   "metadata": {},
   "outputs": [
    {
     "name": "stdout",
     "output_type": "stream",
     "text": [
      "1\n",
      "3\n",
      "5\n",
      "7\n",
      "9\n",
      "11\n",
      "13\n",
      "15\n",
      "17\n",
      "19\n"
     ]
    }
   ],
   "source": [
    "for i in range(21):\n",
    "    if i%2!=0:\n",
    "        print(i)\n",
    "\n"
   ]
  },
  {
   "cell_type": "code",
   "execution_count": 24,
   "metadata": {},
   "outputs": [
    {
     "name": "stdout",
     "output_type": "stream",
     "text": [
      "5000.0\n",
      "2500.0\n",
      "57500.0\n"
     ]
    }
   ],
   "source": [
    "bs=50000\n",
    "da=10/100*bs\n",
    "print(da)\n",
    "hra=5/100*bs\n",
    "print(hra)\n",
    "print(bs+da+hra)"
   ]
  },
  {
   "cell_type": "code",
   "execution_count": 5,
   "metadata": {},
   "outputs": [
    {
     "name": "stdout",
     "output_type": "stream",
     "text": [
      "15 x 1 = 15\n",
      "15 x 2 = 30\n",
      "15 x 3 = 45\n",
      "15 x 4 = 60\n",
      "15 x 5 = 75\n",
      "15 x 6 = 90\n",
      "15 x 7 = 105\n",
      "15 x 8 = 120\n",
      "15 x 9 = 135\n",
      "15 x 10 = 150\n"
     ]
    }
   ],
   "source": [
    "for num in range(1,11):\n",
    "   tab = 15*num\n",
    "   print(f\"15 x {num} =\",tab)\n",
    "\n",
    "    \n",
    "    \n",
    "\n",
    "    "
   ]
  },
  {
   "cell_type": "markdown",
   "metadata": {},
   "source": [
    "2. WHILE LOOP"
   ]
  },
  {
   "cell_type": "code",
   "execution_count": 8,
   "metadata": {},
   "outputs": [
    {
     "name": "stdout",
     "output_type": "stream",
     "text": [
      "komal\n",
      "komal\n",
      "komal\n",
      "komal\n",
      "komal\n",
      "komal\n",
      "komal\n",
      "komal\n",
      "komal\n",
      "komal\n"
     ]
    }
   ],
   "source": [
    "name = 0\n",
    "while name<10:\n",
    "    print(\"komal\")\n",
    "    name+=1"
   ]
  },
  {
   "cell_type": "code",
   "execution_count": 10,
   "metadata": {},
   "outputs": [
    {
     "name": "stdout",
     "output_type": "stream",
     "text": [
      "komal\n",
      "komal\n",
      "komal\n",
      "komal\n",
      "komal\n",
      "komal\n",
      "komal\n",
      "komal\n",
      "komal\n",
      "komal\n"
     ]
    }
   ],
   "source": [
    "name = 0\n",
    "while name<10:\n",
    "    print(\"komal\")\n",
    "    name+=1"
   ]
  },
  {
   "cell_type": "code",
   "execution_count": 12,
   "metadata": {},
   "outputs": [
    {
     "name": "stdout",
     "output_type": "stream",
     "text": [
      "2\n",
      "3\n",
      "4\n",
      "5\n",
      "6\n",
      "7\n",
      "8\n",
      "9\n",
      "10\n"
     ]
    }
   ],
   "source": [
    "num=2\n",
    "while num<11:\n",
    "    print(num)\n",
    "    num+=1\n"
   ]
  },
  {
   "cell_type": "code",
   "execution_count": 15,
   "metadata": {},
   "outputs": [
    {
     "name": "stdout",
     "output_type": "stream",
     "text": [
      "1\n",
      "3\n",
      "5\n",
      "7\n",
      "9\n",
      "11\n",
      "13\n",
      "15\n",
      "17\n",
      "19\n"
     ]
    }
   ],
   "source": [
    "um=1\n",
    "while num<=20:\n",
    "    if num % 2!=0:\n",
    "        print(nunm)\n",
    "    num+=1"
   ]
  },
  {
   "cell_type": "code",
   "execution_count": 21,
   "metadata": {},
   "outputs": [
    {
     "name": "stdout",
     "output_type": "stream",
     "text": [
      "15 x 1 = 15\n",
      "15 x 2 = 30\n",
      "15 x 3 = 45\n",
      "15 x 4 = 60\n",
      "15 x 5 = 75\n",
      "15 x 6 = 90\n",
      "15 x 7 = 105\n",
      "15 x 8 = 120\n",
      "15 x 9 = 135\n",
      "15 x 10 = 150\n"
     ]
    }
   ],
   "source": [
    "no=int(input(\"enter a num\"))\n",
    "num=1 \n",
    "while num<=10:\n",
    "    tb=no*num\n",
    "    print(f\"{no} x {num} =\",tb)\n",
    "    num+=1"
   ]
  },
  {
   "cell_type": "markdown",
   "metadata": {},
   "source": [
    "BREAK"
   ]
  },
  {
   "cell_type": "code",
   "execution_count": 1,
   "metadata": {},
   "outputs": [
    {
     "name": "stdout",
     "output_type": "stream",
     "text": [
      "2\n",
      "3\n",
      "4\n"
     ]
    }
   ],
   "source": [
    "for x in range(2,20):\n",
    "    if x==5:\n",
    "        break\n",
    "    print(x)"
   ]
  },
  {
   "cell_type": "markdown",
   "metadata": {},
   "source": [
    "continue"
   ]
  },
  {
   "cell_type": "code",
   "execution_count": 2,
   "metadata": {},
   "outputs": [
    {
     "name": "stdout",
     "output_type": "stream",
     "text": [
      "2\n",
      "3\n",
      "4\n",
      "6\n",
      "7\n",
      "8\n",
      "9\n",
      "10\n",
      "11\n",
      "12\n",
      "13\n",
      "14\n",
      "15\n",
      "16\n",
      "17\n",
      "18\n",
      "19\n"
     ]
    }
   ],
   "source": [
    "for x in range(2,20):\n",
    "    if x==5:\n",
    "        continue\n",
    "    print(x)"
   ]
  },
  {
   "cell_type": "code",
   "execution_count": null,
   "metadata": {},
   "outputs": [],
   "source": []
  }
 ],
 "metadata": {
  "kernelspec": {
   "display_name": "Python 3",
   "language": "python",
   "name": "python3"
  },
  "language_info": {
   "codemirror_mode": {
    "name": "ipython",
    "version": 3
   },
   "file_extension": ".py",
   "mimetype": "text/x-python",
   "name": "python",
   "nbconvert_exporter": "python",
   "pygments_lexer": "ipython3",
   "version": "3.11.7"
  }
 },
 "nbformat": 4,
 "nbformat_minor": 2
}
